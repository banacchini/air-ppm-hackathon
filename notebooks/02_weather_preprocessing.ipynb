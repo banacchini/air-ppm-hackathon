{
 "cells": [
  {
   "metadata": {},
   "cell_type": "markdown",
   "source": [
    "# Weather Data Preprocessing\n",
    "\n",
    "#### TODO: report types handling, handle the rest of compound fields (look at https://www.airppm.org/for-participants/training-sets), outliers handling\n",
    "#### TODO: final goal -> combine the weather files with the air quality measurements to start training a model\n",
    "\n",
    "## Imports"
   ],
   "id": "6481d014d27ad083"
  },
  {
   "cell_type": "code",
   "id": "initial_id",
   "metadata": {
    "collapsed": true,
    "ExecuteTime": {
     "end_time": "2025-09-16T16:52:00.609828Z",
     "start_time": "2025-09-16T16:52:00.607109Z"
    }
   },
   "source": [
    "import pandas as pd\n",
    "import numpy as np\n",
    "from pathlib import Path"
   ],
   "outputs": [],
   "execution_count": 170
  },
  {
   "metadata": {},
   "cell_type": "markdown",
   "source": [
    "## Merge Weather Files\n",
    "- merge all the available weather files\n",
    "- get rid of irrelevant columns"
   ],
   "id": "1b9fe10ec295ff99"
  },
  {
   "metadata": {
    "ExecuteTime": {
     "end_time": "2025-09-16T16:52:04.159506Z",
     "start_time": "2025-09-16T16:52:02.282107Z"
    }
   },
   "cell_type": "code",
   "source": [
    "weather_dir = Path(\"../data/raw/Weather_Krakow\")\n",
    "\n",
    "weather_files = sorted(weather_dir.glob(\"*.csv\"))\n",
    "\n",
    "dfs = []\n",
    "\n",
    "for f in weather_files:\n",
    "    df = pd.read_csv(f, dtype=str)\n",
    "    df['year_file'] = f.stem\n",
    "    dfs.append(df)\n",
    "    \n",
    "# Normalize column names\n",
    "dfs = [df.rename(columns=lambda x: x.strip()) for df in dfs]\n",
    "df = pd.concat(dfs, ignore_index=True, sort=False)\n",
    "\n",
    "# drop station related or constant columns\n",
    "df = df.drop(columns=[\n",
    "    \"STATION\", # only 1 station\n",
    "    \"SOURCE\", # always 4\n",
    "    \"CALL_SIGN\", # always 99999\n",
    "    \"QUALITY_CONTROL\", # always V020\n",
    "    \"NAME\", #always BALICE, PL\n",
    "    \"ED1\", #either missing or 25,U,9999,9\n",
    "    \"LATITUDE\", \"LONGITUDE\", \"ELEVATION\",\n",
    "    \"REM\" #random codes\n",
    "])\n",
    "\n",
    "print(df.shape)\n",
    "print(df.columns)\n",
    "df.to_csv(\"../data/processed/weather_all_years.csv\", index=False)"
   ],
   "id": "3efa8ce2e6f3cadc",
   "outputs": [
    {
     "name": "stdout",
     "output_type": "stream",
     "text": [
      "(130328, 35)\n",
      "Index(['DATE', 'REPORT_TYPE', 'WND', 'CIG', 'VIS', 'TMP', 'DEW', 'SLP', 'AA1',\n",
      "       'AA2', 'AJ1', 'AY1', 'AY2', 'AZ1', 'AZ2', 'GA1', 'GA2', 'GA3', 'GE1',\n",
      "       'GF1', 'IA1', 'KA1', 'KA2', 'MA1', 'MD1', 'MW1', 'MW2', 'MW3', 'OC1',\n",
      "       'OD1', 'OD2', 'OD3', 'EQD', 'year_file', 'IA2'],\n",
      "      dtype='object')\n"
     ]
    }
   ],
   "execution_count": 171
  },
  {
   "metadata": {
    "ExecuteTime": {
     "end_time": "2025-09-16T16:52:08.761510Z",
     "start_time": "2025-09-16T16:52:08.273976Z"
    }
   },
   "cell_type": "code",
   "source": "df = pd.read_csv(\"../data/processed/weather_all_years.csv\", dtype=str)",
   "id": "7f997ba7496ad479",
   "outputs": [],
   "execution_count": 172
  },
  {
   "metadata": {},
   "cell_type": "markdown",
   "source": "## Drop columns with >90% missing values",
   "id": "53ccc533ae5878f3"
  },
  {
   "metadata": {
    "ExecuteTime": {
     "end_time": "2025-09-16T16:52:10.628668Z",
     "start_time": "2025-09-16T16:52:10.530938Z"
    }
   },
   "cell_type": "code",
   "source": [
    "# assuming your DataFrame is called df\n",
    "missing_percent = df.isna().mean() * 100  # % of missing per column\n",
    "cols_high_missing = missing_percent[missing_percent > 80].index.tolist()\n",
    "\n",
    "print(\"Columns with >80% missing values:\")\n",
    "print(cols_high_missing)\n",
    "\n",
    "df = df.drop(columns=cols_high_missing)"
   ],
   "id": "a59fddce6f1a5c75",
   "outputs": [
    {
     "name": "stdout",
     "output_type": "stream",
     "text": [
      "Columns with >80% missing values:\n",
      "['AA1', 'AA2', 'AJ1', 'AY1', 'AY2', 'AZ1', 'AZ2', 'GA3', 'IA1', 'KA1', 'KA2', 'MW2', 'MW3', 'OC1', 'OD1', 'OD2', 'OD3', 'EQD', 'IA2']\n"
     ]
    }
   ],
   "execution_count": 173
  },
  {
   "metadata": {},
   "cell_type": "markdown",
   "source": "## Split Compound Columns",
   "id": "2ab6ca0c0f41233a"
  },
  {
   "metadata": {},
   "cell_type": "markdown",
   "source": [
    "### Wind\n",
    "1. split the WND column into direction, dir_quality, type, speed and speed_quality\n",
    "2. handle placeholders like 999 or 9999\n",
    "3. handle the wind type meanings\n",
    "4. keep only the measurements with reliable quality (1)\n",
    "5. encode the wind direction as sin/cos (cyclic encoding)\n",
    "6. keep the wind direction and wind speed in the final dataframe"
   ],
   "id": "d7a4c0ac9b2ddbd4"
  },
  {
   "metadata": {
    "ExecuteTime": {
     "end_time": "2025-09-16T16:52:16.210043Z",
     "start_time": "2025-09-16T16:52:15.821745Z"
    }
   },
   "cell_type": "code",
   "source": [
    "# --- Split WND into parts ---\n",
    "wnd_parts = df[\"WND\"].fillna(\"\").str.split(\",\", expand=True)\n",
    "\n",
    "df[\"wind_dir_deg\"] = pd.to_numeric(wnd_parts[0], errors=\"coerce\")\n",
    "df[\"wind_dir_qc\"] = wnd_parts[1]\n",
    "df[\"wind_type\"]   = wnd_parts[2]\n",
    "df[\"wind_speed_raw\"] = pd.to_numeric(wnd_parts[3], errors=\"coerce\")\n",
    "df[\"wind_speed_qc\"] = wnd_parts[4]\n",
    "\n",
    "# --- Handle placeholder values ---\n",
    "df.loc[df[\"wind_dir_deg\"] == 999, \"wind_dir_deg\"] = np.nan\n",
    "df.loc[df[\"wind_speed_raw\"] == 9999, \"wind_speed_raw\"] = np.nan\n",
    "\n",
    "# --- Handle wind_type meanings ---\n",
    "df.loc[df[\"wind_type\"] == \"C\", \"wind_speed_raw\"] = 0\n",
    "df.loc[df[\"wind_type\"].isin([\"C\",\"V\"]), \"wind_dir_deg\"] = np.nan\n",
    "\n",
    "# --- Keep only reliable measurements ---\n",
    "df.loc[df[\"wind_dir_qc\"] != \"1\", \"wind_dir_deg\"] = np.nan\n",
    "df.loc[df[\"wind_speed_qc\"] != \"1\", \"wind_speed_raw\"] = np.nan\n",
    "\n",
    "# Cyclic encoding of wind direction\n",
    "df[\"wind_dir_sin\"] = np.sin(np.radians(df[\"wind_dir_deg\"]))\n",
    "df[\"wind_dir_cos\"] = np.cos(np.radians(df[\"wind_dir_deg\"]))\n",
    "\n",
    "# --- Drop original WND column and helper columns ---\n",
    "df = df.drop(columns=[\"WND\", \"wind_dir_qc\", \"wind_type\", \"wind_speed_qc\", \"wind_dir_deg\"])\n",
    "\n",
    "# Optional: check result\n",
    "print(df.head())\n",
    "print(df[[\"wind_speed_raw\", \"wind_dir_sin\", \"wind_dir_cos\"]].describe())"
   ],
   "id": "56cb53b43fc4a0fd",
   "outputs": [
    {
     "name": "stdout",
     "output_type": "stream",
     "text": [
      "                  DATE REPORT_TYPE          CIG           VIS      TMP  \\\n",
      "0  2019-01-01T00:00:00       FM-12  99999,9,9,N  006000,1,9,9  +0001,1   \n",
      "1  2019-01-01T00:00:00       FM-15  00884,1,9,N  006000,1,9,9  +0000,1   \n",
      "2  2019-01-01T00:30:00       FM-15  00610,1,C,N  006000,1,9,9  +0000,1   \n",
      "3  2019-01-01T01:00:00       FM-12  99999,9,9,N  006000,1,9,9  +0008,1   \n",
      "4  2019-01-01T01:00:00       FM-15  00610,1,C,N  006000,1,9,9  +0010,1   \n",
      "\n",
      "       DEW      SLP                 GA1                 GA2  \\\n",
      "0  -0009,1  10302,1  07,1,+00800,1,06,1                 NaN   \n",
      "1  -0010,1  99999,9  02,1,+00640,1,99,9  07,1,+00884,1,99,9   \n",
      "2  -0010,1  99999,9  07,1,+00610,1,99,9                 NaN   \n",
      "3  -0008,1  10299,1  07,1,+00800,1,06,1                 NaN   \n",
      "4  -0010,1  99999,9  07,1,+00610,1,99,9                 NaN   \n",
      "\n",
      "                      GE1                                  GF1  \\\n",
      "0  9,AGL   ,+99999,+99999  08,99,1,07,1,99,9,00800,1,99,9,99,9   \n",
      "1  9,AGL   ,+99999,+99999  99,99,9,02,1,99,9,00640,1,99,9,99,9   \n",
      "2  9,AGL   ,+99999,+99999  99,99,9,07,1,99,9,00610,1,99,9,99,9   \n",
      "3  9,AGL   ,+99999,+99999  08,99,1,07,1,99,9,00800,1,99,9,99,9   \n",
      "4  9,AGL   ,+99999,+99999  99,99,9,07,1,99,9,00610,1,99,9,99,9   \n",
      "\n",
      "               MA1               MD1   MW1 year_file  wind_speed_raw  \\\n",
      "0  99999,9,09996,1  8,1,011,1,+999,9  10,1      2019            30.0   \n",
      "1  10280,1,99999,9               NaN   NaN      2019            26.0   \n",
      "2  10280,1,99999,9               NaN   NaN      2019            26.0   \n",
      "3  99999,9,09994,1  7,1,011,1,+999,9  10,1      2019            30.0   \n",
      "4  10280,1,99999,9               NaN   NaN      2019            31.0   \n",
      "\n",
      "   wind_dir_sin  wind_dir_cos  \n",
      "0     -0.866025     -0.500000  \n",
      "1     -0.866025     -0.500000  \n",
      "2     -0.766044     -0.642788  \n",
      "3     -0.642788     -0.766044  \n",
      "4     -0.642788     -0.766044  \n",
      "       wind_speed_raw  wind_dir_sin  wind_dir_cos\n",
      "count   125617.000000  91824.000000  91824.000000\n",
      "mean        31.560330     -0.213823     -0.016201\n",
      "std         21.531019      0.721866      0.657980\n",
      "min          0.000000     -1.000000     -1.000000\n",
      "25%         15.000000     -0.866025     -0.642788\n",
      "50%         26.000000     -0.500000     -0.173648\n",
      "75%         41.000000      0.642788      0.642788\n",
      "max        216.000000      1.000000      1.000000\n"
     ]
    }
   ],
   "execution_count": 174
  },
  {
   "metadata": {},
   "cell_type": "markdown",
   "source": [
    "### Cloud Ceiling\n",
    "1. split CIG into ceiling height, method, quality and coverage\n",
    "2. convert coverage from N/Y to 0/1 \n",
    "3. handle placeholder height values\n",
    "4. keep only the height where method and quality were valid\n",
    "5. keep the ceiling_height and ceiling_coverage in the final dataFrame"
   ],
   "id": "608d60291a4b68a3"
  },
  {
   "metadata": {
    "ExecuteTime": {
     "end_time": "2025-09-16T16:52:20.843172Z",
     "start_time": "2025-09-16T16:52:20.674689Z"
    }
   },
   "cell_type": "code",
   "source": [
    "cig_parts = df[\"CIG\"].fillna(\"\").str.split(\",\", expand=True)\n",
    "\n",
    "# Extract raw columns\n",
    "df[\"ceiling_height_ft\"] = pd.to_numeric(cig_parts[0], errors=\"coerce\")\n",
    "df[\"ceiling_method\"] = cig_parts[1].replace(\"9\", np.nan)  # only 9 → NaN\n",
    "df[\"ceiling_quality\"] = cig_parts[2].replace(\"9\", np.nan) # only 9 → NaN\n",
    "df[\"ceiling_coverage\"] = cig_parts[3].map({\"N\": 0, \"Y\": 1, \"9\": np.nan})\n",
    "\n",
    "# Handle placeholder height values\n",
    "df.loc[df[\"ceiling_height_ft\"] == 99999, \"ceiling_height_ft\"] = np.nan\n",
    "\n",
    "# Keep only reliable height and coverage (non-NaN method/quality)\n",
    "df.loc[df[\"ceiling_method\"].isna() | df[\"ceiling_quality\"].isna(), \"ceiling_height_ft\"] = np.nan\n",
    "\n",
    "# Drop helper columns\n",
    "\n",
    "df = df.drop(columns=[\"ceiling_method\", \"ceiling_quality\", \"CIG\"])\n",
    "\n",
    "df[[\"ceiling_height_ft\", \"ceiling_coverage\"]].describe()\n"
   ],
   "id": "719a947744a7bc06",
   "outputs": [
    {
     "data": {
      "text/plain": [
       "       ceiling_height_ft  ceiling_coverage\n",
       "count       28654.000000     129317.000000\n",
       "mean          748.836463          0.222067\n",
       "std           620.591988          0.415637\n",
       "min             0.000000          0.000000\n",
       "25%           210.000000          0.000000\n",
       "50%           549.000000          0.000000\n",
       "75%          1219.000000          0.000000\n",
       "max         10500.000000          1.000000"
      ],
      "text/html": [
       "<div>\n",
       "<style scoped>\n",
       "    .dataframe tbody tr th:only-of-type {\n",
       "        vertical-align: middle;\n",
       "    }\n",
       "\n",
       "    .dataframe tbody tr th {\n",
       "        vertical-align: top;\n",
       "    }\n",
       "\n",
       "    .dataframe thead th {\n",
       "        text-align: right;\n",
       "    }\n",
       "</style>\n",
       "<table border=\"1\" class=\"dataframe\">\n",
       "  <thead>\n",
       "    <tr style=\"text-align: right;\">\n",
       "      <th></th>\n",
       "      <th>ceiling_height_ft</th>\n",
       "      <th>ceiling_coverage</th>\n",
       "    </tr>\n",
       "  </thead>\n",
       "  <tbody>\n",
       "    <tr>\n",
       "      <th>count</th>\n",
       "      <td>28654.000000</td>\n",
       "      <td>129317.000000</td>\n",
       "    </tr>\n",
       "    <tr>\n",
       "      <th>mean</th>\n",
       "      <td>748.836463</td>\n",
       "      <td>0.222067</td>\n",
       "    </tr>\n",
       "    <tr>\n",
       "      <th>std</th>\n",
       "      <td>620.591988</td>\n",
       "      <td>0.415637</td>\n",
       "    </tr>\n",
       "    <tr>\n",
       "      <th>min</th>\n",
       "      <td>0.000000</td>\n",
       "      <td>0.000000</td>\n",
       "    </tr>\n",
       "    <tr>\n",
       "      <th>25%</th>\n",
       "      <td>210.000000</td>\n",
       "      <td>0.000000</td>\n",
       "    </tr>\n",
       "    <tr>\n",
       "      <th>50%</th>\n",
       "      <td>549.000000</td>\n",
       "      <td>0.000000</td>\n",
       "    </tr>\n",
       "    <tr>\n",
       "      <th>75%</th>\n",
       "      <td>1219.000000</td>\n",
       "      <td>0.000000</td>\n",
       "    </tr>\n",
       "    <tr>\n",
       "      <th>max</th>\n",
       "      <td>10500.000000</td>\n",
       "      <td>1.000000</td>\n",
       "    </tr>\n",
       "  </tbody>\n",
       "</table>\n",
       "</div>"
      ]
     },
     "execution_count": 175,
     "metadata": {},
     "output_type": "execute_result"
    }
   ],
   "execution_count": 175
  },
  {
   "metadata": {},
   "cell_type": "markdown",
   "source": [
    "### Visibility\n",
    "1. split the compound field\n",
    "2. keep the visibility in meters only if the 2nd value is 1\n",
    "3. TODO: FIGURE OUT WHERE TO CUT THE VISIBILITY CUZ 70KM IS QUITE UNREALISTIC"
   ],
   "id": "4bfebe1682a90141"
  },
  {
   "metadata": {
    "ExecuteTime": {
     "end_time": "2025-09-16T16:52:24.403273Z",
     "start_time": "2025-09-16T16:52:24.136976Z"
    }
   },
   "cell_type": "code",
   "source": [
    "# Split the VIS column into parts\n",
    "vis_parts = df[\"VIS\"].fillna(\"\").str.split(\",\", expand=True)\n",
    "\n",
    "# Assign columns\n",
    "df[\"visibility_m\"] = pd.to_numeric(vis_parts[0], errors=\"coerce\")      # meters\n",
    "df[\"visibility_var\"] = vis_parts[1]                                   # variability\n",
    "df[\"visibility_quality\"] = vis_parts[2]                                # quality\n",
    "df[\"visibility_extra\"] = vis_parts[3]                                  # unknown, can drop later\n",
    "\n",
    "# Replace placeholder/missing values\n",
    "df.loc[df[\"visibility_m\"] == 99999, \"visibility_m\"] = np.nan\n",
    "df.loc[df[\"visibility_m\"] == 9999, \"visibility_m\"] = np.nan\n",
    "df.loc[df[\"visibility_var\"] != \"1\", \"visibility_m\"] = np.nan\n",
    "\n",
    "# Display stats for all visibility columns\n",
    "visibility_cols = [\"visibility_m\", \"visibility_var\", \"visibility_quality\", \"visibility_extra\"]\n",
    "print(df[visibility_cols].describe(include=\"all\"))\n",
    "\n",
    "df = df.drop(columns=[\"visibility_var\", \"visibility_quality\", \"visibility_extra\", \"VIS\"])\n"
   ],
   "id": "5d1774674effafd4",
   "outputs": [
    {
     "name": "stdout",
     "output_type": "stream",
     "text": [
      "        visibility_m visibility_var visibility_quality visibility_extra\n",
      "count   65451.000000         130328             130328           130328\n",
      "unique           NaN              2                  1                1\n",
      "top              NaN              1                  9                9\n",
      "freq             NaN         103242             130328           130328\n",
      "mean    18424.588685            NaN                NaN              NaN\n",
      "std     16529.051113            NaN                NaN              NaN\n",
      "min         0.000000            NaN                NaN              NaN\n",
      "25%      5000.000000            NaN                NaN              NaN\n",
      "50%     10000.000000            NaN                NaN              NaN\n",
      "75%     30000.000000            NaN                NaN              NaN\n",
      "max     70001.000000            NaN                NaN              NaN\n"
     ]
    }
   ],
   "execution_count": 176
  },
  {
   "metadata": {
    "ExecuteTime": {
     "end_time": "2025-09-16T16:52:28.608652Z",
     "start_time": "2025-09-16T16:52:28.374019Z"
    }
   },
   "cell_type": "code",
   "source": [
    "import matplotlib.pyplot as plt\n",
    "import seaborn as sns\n",
    "\n",
    "# Remove NaN values for plotting\n",
    "vis_data = df[\"visibility_m\"].dropna()\n",
    "\n",
    "# Histogram\n",
    "plt.figure(figsize=(12,5))\n",
    "sns.histplot(vis_data, bins=100, kde=False)\n",
    "plt.title(\"Histogram of Visibility (meters)\")\n",
    "plt.xlabel(\"Visibility (m)\")\n",
    "plt.ylabel(\"Count\")\n",
    "plt.show()\n",
    "\n",
    "# Boxplot (good for spotting outliers)\n",
    "plt.figure(figsize=(12,3))\n",
    "sns.boxplot(x=vis_data)\n",
    "plt.title(\"Boxplot of Visibility (meters)\")\n",
    "plt.xlabel(\"Visibility (m)\")\n",
    "plt.show()"
   ],
   "id": "643a28edd7b0c856",
   "outputs": [
    {
     "data": {
      "text/plain": [
       "<Figure size 1200x500 with 1 Axes>"
      ],
      "image/png": "[encoded data removed]"
     },
     "metadata": {},
     "output_type": "display_data"
    },
    {
     "data": {
      "text/plain": [
       "<Figure size 1200x300 with 1 Axes>"
      ],
      "image/png": "[encoded data removed]"
     },
     "metadata": {},
     "output_type": "display_data"
    }
   ],
   "execution_count": 177
  },
  {
   "metadata": {},
   "cell_type": "markdown",
   "source": [
    "### Temperature, DEW, SLP\n",
    "1. Split the compound field\n",
    "2. keep the measurement only if the quality is 1"
   ],
   "id": "9045b885f35a92f8"
  },
  {
   "metadata": {
    "ExecuteTime": {
     "end_time": "2025-09-16T16:52:31.900885Z",
     "start_time": "2025-09-16T16:52:31.748757Z"
    }
   },
   "cell_type": "code",
   "source": [
    "# Split TMP into temperature and quality\n",
    "tmp_parts = df[\"TMP\"].fillna(\"\").str.split(\",\", expand=True)\n",
    "\n",
    "# Convert temperature to numeric (values are °C * 10)\n",
    "df[\"temperature_C\"] = pd.to_numeric(tmp_parts[0], errors=\"coerce\") / 10.0\n",
    "df[\"temperature_qlt\"] = pd.to_numeric(tmp_parts[1], errors=\"coerce\")\n",
    "\n",
    "df.loc[df[\"temperature_qlt\"] != 1, \"temperature_C\"] = np.nan\n",
    "\n",
    "# Optional: drop the original TMP column\n",
    "df.drop(columns=[\"TMP\", \"temperature_qlt\"], inplace=True)\n",
    "\n",
    "# Inspect\n",
    "print(df[\"temperature_C\"].describe())\n"
   ],
   "id": "7a1fcaa5bc38cbf7",
   "outputs": [
    {
     "name": "stdout",
     "output_type": "stream",
     "text": [
      "count    130293.000000\n",
      "mean          9.937908\n",
      "std           8.582025\n",
      "min         -14.000000\n",
      "25%           3.000000\n",
      "50%           9.400000\n",
      "75%          16.700000\n",
      "max          35.400000\n",
      "Name: temperature_C, dtype: float64\n"
     ]
    }
   ],
   "execution_count": 178
  },
  {
   "metadata": {
    "ExecuteTime": {
     "end_time": "2025-09-16T16:52:34.624630Z",
     "start_time": "2025-09-16T16:52:34.360250Z"
    }
   },
   "cell_type": "code",
   "source": [
    "# Split TMP into temperature and quality\n",
    "slp_parts = df[\"SLP\"].fillna(\"\").str.split(\",\", expand=True)\n",
    "\n",
    "# Convert temperature to numeric (values are °C * 10)\n",
    "df[\"SLP_hpa\"] = pd.to_numeric(slp_parts[0], errors=\"coerce\") / 10.0\n",
    "df[\"SLP_qlt\"] = pd.to_numeric(slp_parts[1], errors=\"coerce\")\n",
    "\n",
    "df.loc[df[\"SLP_qlt\"] != 1, \"SLP_hpa\"] = np.nan\n",
    "\n",
    "# Optional: drop the original TMP column\n",
    "df.drop(columns=[\"SLP\", \"SLP_qlt\"], inplace=True)\n",
    "\n",
    "# Inspect\n",
    "print(df[\"SLP_hpa\"].describe())\n"
   ],
   "id": "a10193081e5bfc7f",
   "outputs": [
    {
     "name": "stdout",
     "output_type": "stream",
     "text": [
      "count    43396.000000\n",
      "mean      1017.115112\n",
      "std          8.686429\n",
      "min        985.400000\n",
      "25%       1011.800000\n",
      "50%       1017.200000\n",
      "75%       1022.600000\n",
      "max       1047.100000\n",
      "Name: SLP_hpa, dtype: float64\n"
     ]
    }
   ],
   "execution_count": 179
  },
  {
   "metadata": {
    "ExecuteTime": {
     "end_time": "2025-09-16T16:52:36.888641Z",
     "start_time": "2025-09-16T16:52:36.729302Z"
    }
   },
   "cell_type": "code",
   "source": [
    "# Split TMP into temperature and quality\n",
    "dew_parts = df[\"DEW\"].fillna(\"\").str.split(\",\", expand=True)\n",
    "\n",
    "# Convert temperature to numeric (values are °C * 10)\n",
    "df[\"DEW_C\"] = pd.to_numeric(dew_parts[0], errors=\"coerce\") / 10.0\n",
    "df[\"DEW_qlt\"] = pd.to_numeric(dew_parts[1], errors=\"coerce\")\n",
    "\n",
    "df.loc[df[\"DEW_qlt\"] != 1, \"DEW_C\"] = np.nan\n",
    "\n",
    "# Optional: drop the original TMP column\n",
    "df.drop(columns=[\"DEW\", \"DEW_qlt\"], inplace=True)\n",
    "\n",
    "# Inspect\n",
    "print(df[\"DEW_C\"].describe())\n"
   ],
   "id": "ccdee74867a80aa0",
   "outputs": [
    {
     "name": "stdout",
     "output_type": "stream",
     "text": [
      "count    130309.000000\n",
      "mean          5.442331\n",
      "std           7.307677\n",
      "min         -18.000000\n",
      "25%           0.000000\n",
      "50%           5.000000\n",
      "75%          11.400000\n",
      "max          23.000000\n",
      "Name: DEW_C, dtype: float64\n"
     ]
    }
   ],
   "execution_count": 180
  },
  {
   "metadata": {},
   "cell_type": "markdown",
   "source": "",
   "id": "fb410eebd7a20b18"
  },
  {
   "metadata": {},
   "cell_type": "markdown",
   "source": "## Save to csv after basic preprocessing",
   "id": "3f2b96ef79a85fb3"
  },
  {
   "metadata": {
    "ExecuteTime": {
     "end_time": "2025-09-16T16:52:40.737535Z",
     "start_time": "2025-09-16T16:52:39.649387Z"
    }
   },
   "cell_type": "code",
   "source": "df.to_csv(\"../data/processed/weather_basic_preprocessing.csv\", index=False)",
   "id": "3f7f4b4a21f4ee32",
   "outputs": [],
   "execution_count": 181
  },
  {
   "metadata": {},
   "cell_type": "markdown",
   "source": "",
   "id": "5a2f416ed0ab6280"
  },
  {
   "metadata": {
    "ExecuteTime": {
     "end_time": "2025-09-16T16:52:41.527706Z",
     "start_time": "2025-09-16T16:52:41.497457Z"
    }
   },
   "cell_type": "code",
   "source": [
    "# % of missing values per column\n",
    "missing_percent = df.isna().mean() * 100\n",
    "print(missing_percent.sort_values(ascending=False))"
   ],
   "id": "3a1f756c342ac560",
   "outputs": [
    {
     "name": "stdout",
     "output_type": "stream",
     "text": [
      "ceiling_height_ft    78.013934\n",
      "GA2                  74.032441\n",
      "MW1                  72.427260\n",
      "SLP_hpa              66.702474\n",
      "MD1                  66.660273\n",
      "visibility_m         49.779786\n",
      "GA1                  30.107882\n",
      "GE1                  30.107882\n",
      "wind_dir_sin         29.543920\n",
      "wind_dir_cos         29.543920\n",
      "GF1                  24.924805\n",
      "wind_speed_raw        3.614726\n",
      "ceiling_coverage      0.775735\n",
      "temperature_C         0.026855\n",
      "DEW_C                 0.014579\n",
      "MA1                   0.000767\n",
      "DATE                  0.000000\n",
      "REPORT_TYPE           0.000000\n",
      "year_file             0.000000\n",
      "dtype: float64\n"
     ]
    }
   ],
   "execution_count": 182
  },
  {
   "metadata": {},
   "cell_type": "markdown",
   "source": "# Example hour that has two reports",
   "id": "7db361ed794bb94b"
  },
  {
   "metadata": {
    "ExecuteTime": {
     "end_time": "2025-09-16T16:52:52.323355Z",
     "start_time": "2025-09-16T16:52:47.200318Z"
    }
   },
   "cell_type": "code",
   "source": [
    "df[\"DATE\"] = pd.to_datetime(df[\"DATE\"], errors=\"coerce\")\n",
    "\n",
    "report_counts = df.groupby(\"DATE\")[\"REPORT_TYPE\"].nunique().reset_index(name=\"num_report_types\")\n",
    "\n",
    "# Group by timestamp and keep only those with multiple reports\n",
    "dupes = df.groupby(\"DATE\").filter(lambda g: g[\"REPORT_TYPE\"].nunique() > 1)\n",
    "\n",
    "# Pick one example timestamp\n",
    "example_time = dupes[\"DATE\"].iloc[0]\n",
    "subset = df[df[\"DATE\"] == example_time]\n",
    "\n",
    "# Compare reports row by row: keep only differing columns\n",
    "diff_cols = subset.loc[:, (subset.nunique(dropna=False) > 1)]\n",
    "print(f\"🔎 Example time: {example_time}\")\n",
    "print(diff_cols)"
   ],
   "id": "b475c3ad699729b9",
   "outputs": [
    {
     "name": "stdout",
     "output_type": "stream",
     "text": [
      "🔎 Example time: 2019-01-01 00:00:00\n",
      "  REPORT_TYPE                 GA1                 GA2  \\\n",
      "0       FM-12  07,1,+00800,1,06,1                 NaN   \n",
      "1       FM-15  02,1,+00640,1,99,9  07,1,+00884,1,99,9   \n",
      "\n",
      "                                   GF1              MA1               MD1  \\\n",
      "0  08,99,1,07,1,99,9,00800,1,99,9,99,9  99999,9,09996,1  8,1,011,1,+999,9   \n",
      "1  99,99,9,02,1,99,9,00640,1,99,9,99,9  10280,1,99999,9               NaN   \n",
      "\n",
      "    MW1  wind_speed_raw  temperature_C  SLP_hpa  DEW_C  \n",
      "0  10,1            30.0            0.1   1030.2   -0.9  \n",
      "1   NaN            26.0            0.0      NaN   -1.0  \n"
     ]
    }
   ],
   "execution_count": 183
  },
  {
   "metadata": {},
   "cell_type": "markdown",
   "source": "### We will keep FM-15 as the base report due to bigger coverage",
   "id": "9df5b8f2225332fe"
  },
  {
   "metadata": {
    "ExecuteTime": {
     "end_time": "2025-09-16T16:53:19.569421Z",
     "start_time": "2025-09-16T16:53:19.560877Z"
    }
   },
   "cell_type": "code",
   "source": [
    "report_counts = df[\"REPORT_TYPE\"].value_counts()\n",
    "print(report_counts)"
   ],
   "id": "a9dee4a8538dd829",
   "outputs": [
    {
     "name": "stdout",
     "output_type": "stream",
     "text": [
      "REPORT_TYPE\n",
      "FM-15    86875\n",
      "FM-12    43452\n",
      "FM-16        1\n",
      "Name: count, dtype: int64\n"
     ]
    }
   ],
   "execution_count": 184
  }
 ],
 "metadata": {
  "kernelspec": {
   "display_name": "Python 3",
   "language": "python",
   "name": "python3"
  },
  "language_info": {
   "codemirror_mode": {
    "name": "ipython",
    "version": 2
   },
   "file_extension": ".py",
   "mimetype": "text/x-python",
   "name": "python",
   "nbconvert_exporter": "python",
   "pygments_lexer": "ipython2",
   "version": "2.7.6"
  }
 },
 "nbformat": 4,
 "nbformat_minor": 5
}
