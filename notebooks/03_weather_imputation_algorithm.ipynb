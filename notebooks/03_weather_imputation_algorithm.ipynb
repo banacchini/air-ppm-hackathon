{
 "cells": [
  {
   "metadata": {},
   "cell_type": "markdown",
   "source": [
    "# Weather Imputation algorithm\n",
    "## Goals\n",
    "### get a weather forecast possible to merge with the air quality measures\n",
    "- We need a time-series every hour in years 2019-2023 with weather conditions\n",
    "- Some hours have multiple reports (FM-12 and FM-15), some of the reports miss the data that you can find in the other report. we have to find a way to merge them. To do that we have to chose one type of report as a base, then fill the missing info from the additional reports.\n",
    "- In general FM-12 are each hour and FM-15 are every 30 minutes.\n",
    "- If none of the reports contains a field we can a) treat it as missing, b) average the value from the previous available observation and next available observation (assume linear change of weather)\n",
    "- e.g. TMP at 3pm was 10 degrees, 4pm is missing, next available TMP is at 8pm - 5 degrees, we calculate 4pm to be 9 degrees\n",
    "- approach b) gets pretty complicated with the inclusion of half hour periods and stuff like that"
   ],
   "id": "a456780433c564b1"
  },
  {
   "metadata": {
    "ExecuteTime": {
     "end_time": "2025-09-17T11:26:31.643661Z",
     "start_time": "2025-09-17T11:26:31.640687Z"
    }
   },
   "cell_type": "code",
   "source": "import pandas as pd",
   "id": "a341c8843c791a00",
   "outputs": [],
   "execution_count": 1
  },
  {
   "metadata": {
    "ExecuteTime": {
     "end_time": "2025-09-17T11:26:33.696003Z",
     "start_time": "2025-09-17T11:26:33.521728Z"
    }
   },
   "cell_type": "code",
   "source": "df = pd.read_csv(\"../data/processed/weather_pre_algorithm.csv\")",
   "id": "e49ba18ab468d174",
   "outputs": [],
   "execution_count": 2
  },
  {
   "metadata": {},
   "cell_type": "markdown",
   "source": "## Example hour with multiple reports",
   "id": "655e800992ee9b34"
  },
  {
   "metadata": {
    "ExecuteTime": {
     "end_time": "2025-09-17T11:26:58.334916Z",
     "start_time": "2025-09-17T11:26:54.545047Z"
    }
   },
   "cell_type": "code",
   "source": [
    "df[\"DATE\"] = pd.to_datetime(df[\"DATE\"], errors=\"coerce\")\n",
    "\n",
    "report_counts = df.groupby(\"DATE\")[\"REPORT_TYPE\"].nunique().reset_index(name=\"num_report_types\")\n",
    "\n",
    "# Group by timestamp and keep only those with multiple reports\n",
    "dupes = df.groupby(\"DATE\").filter(lambda g: g[\"REPORT_TYPE\"].nunique() > 1)\n",
    "\n",
    "# Pick one example timestamp\n",
    "example_time = dupes[\"DATE\"].iloc[0]\n",
    "subset = df[df[\"DATE\"] == example_time]\n",
    "\n",
    "# Compare reports row by row: keep only differing columns\n",
    "diff_cols = subset.loc[:, (subset.nunique(dropna=False) > 1)]\n",
    "print(f\"🔎 Example time: {example_time}\")\n",
    "print(diff_cols)"
   ],
   "id": "413a660d0df48cbd",
   "outputs": [
    {
     "name": "stdout",
     "output_type": "stream",
     "text": [
      "🔎 Example time: 2019-01-01 00:00:00\n",
      "  REPORT_TYPE  wind_speed_raw  temperature_C  SLP_hpa  DEW_C  MA1_main  \\\n",
      "0       FM-12            30.0            0.1   1030.2   -0.9       NaN   \n",
      "1       FM-15            26.0            0.0      NaN   -1.0   10280.0   \n",
      "\n",
      "   MA1_sec  GA1_amt  GA1_height  GA1_type  GA2_amt  GA2_height  MD1_m1  \\\n",
      "0   9996.0      7.0       800.0       6.0      NaN         NaN     8.0   \n",
      "1      NaN      2.0       640.0       NaN      7.0       884.0     NaN   \n",
      "\n",
      "   MD1_m2  MW1_val  \n",
      "0    11.0     10.0  \n",
      "1     NaN      NaN  \n"
     ]
    }
   ],
   "execution_count": 3
  },
  {
   "metadata": {
    "ExecuteTime": {
     "end_time": "2025-09-17T11:27:59.487931Z",
     "start_time": "2025-09-17T11:27:59.477714Z"
    }
   },
   "cell_type": "code",
   "source": [
    "report_counts = df[\"REPORT_TYPE\"].value_counts()\n",
    "print(report_counts)"
   ],
   "id": "2319f402885b2ea1",
   "outputs": [
    {
     "name": "stdout",
     "output_type": "stream",
     "text": [
      "REPORT_TYPE\n",
      "FM-15    86875\n",
      "FM-12    43452\n",
      "FM-16        1\n",
      "Name: count, dtype: int64\n"
     ]
    }
   ],
   "execution_count": 4
  }
 ],
 "metadata": {
  "kernelspec": {
   "display_name": "Python 3",
   "language": "python",
   "name": "python3"
  },
  "language_info": {
   "codemirror_mode": {
    "name": "ipython",
    "version": 2
   },
   "file_extension": ".py",
   "mimetype": "text/x-python",
   "name": "python",
   "nbconvert_exporter": "python",
   "pygments_lexer": "ipython2",
   "version": "2.7.6"
  }
 },
 "nbformat": 4,
 "nbformat_minor": 5
}
