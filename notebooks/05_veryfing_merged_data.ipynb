{
 "cells": [
  {
   "cell_type": "code",
   "execution_count": 1,
   "id": "804e951c",
   "metadata": {},
   "outputs": [],
   "source": [
    "import pandas as pd\n",
    "import numpy as np"
   ]
  },
  {
   "cell_type": "code",
   "execution_count": 2,
   "id": "00896643",
   "metadata": {},
   "outputs": [],
   "source": [
    "df = pd.read_csv(\"../data/processed/processed_weather_data_merged.csv\")"
   ]
  },
  {
   "cell_type": "code",
   "execution_count": 3,
   "id": "5b47be1f",
   "metadata": {},
   "outputs": [
    {
     "name": "stdout",
     "output_type": "stream",
     "text": [
      "Percentage of NA values in each column:\n",
      "DATE                  0.000000\n",
      "REPORT_TYPE           0.000000\n",
      "wind_speed_raw        0.041316\n",
      "wind_dir_sin          8.830078\n",
      "wind_dir_cos          8.830078\n",
      "ceiling_height_ft    70.468474\n",
      "ceiling_coverage      0.135424\n",
      "visibility_m          0.208874\n",
      "temperature_C         0.002295\n",
      "SLP_hpa               0.392499\n",
      "DEW_C                 0.000000\n",
      "MA1_main              0.415452\n",
      "MA1_sec               0.325935\n",
      "GA1_amt              22.528519\n",
      "GA1_height           36.194826\n",
      "GA1_type             12.268460\n",
      "GA2_amt              78.116464\n",
      "GA2_height           78.114169\n",
      "GA2_type             66.295591\n",
      "MD1_m1                5.924209\n",
      "MD1_m2                0.268552\n",
      "MW1_val              62.923773\n",
      "dtype: float64\n"
     ]
    }
   ],
   "source": [
    "#Check for % of NA values in each column\n",
    "na_percent = df.isna().mean() * 100\n",
    "print(\"Percentage of NA values in each column:\")\n",
    "print(na_percent)\n"
   ]
  },
  {
   "cell_type": "code",
   "execution_count": 4,
   "id": "069ad321",
   "metadata": {},
   "outputs": [],
   "source": [
    "# Delete this columns [\"ceiling_height_ft\", \"GA2_amt\", \"GA2_height\", \"GA2_type\", \"MW1_val\"]\n",
    "\n",
    "columns_to_drop = [\"ceiling_height_ft\", \"GA2_amt\", \"GA2_height\", \"GA2_type\", \"MW1_val\"]\n",
    "\n",
    "df = df.drop(columns=columns_to_drop)\n",
    "\n",
    "# Save the cleaned dataframe\n",
    "df.to_csv(\"../data/processed/merged_cleaned_weather_data.csv\", index=False)"
   ]
  }
 ],
 "metadata": {
  "kernelspec": {
   "display_name": "hackathon",
   "language": "python",
   "name": "python3"
  },
  "language_info": {
   "codemirror_mode": {
    "name": "ipython",
    "version": 3
   },
   "file_extension": ".py",
   "mimetype": "text/x-python",
   "name": "python",
   "nbconvert_exporter": "python",
   "pygments_lexer": "ipython3",
   "version": "3.11.13"
  }
 },
 "nbformat": 4,
 "nbformat_minor": 5
}
